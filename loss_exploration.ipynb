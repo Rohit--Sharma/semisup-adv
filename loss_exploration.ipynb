{
 "cells": [
  {
   "cell_type": "code",
   "execution_count": 1,
   "metadata": {},
   "outputs": [],
   "source": [
    "import pandas as pd\n",
    "import numpy as np\n",
    "import torch\n",
    "import time\n",
    "from datetime import datetime\n",
    "import os\n",
    "import matplotlib.pyplot as plt\n",
    "import torch.nn.functional as F\n",
    "import seaborn as sns\n",
    "from scipy.stats import norm"
   ]
  },
  {
   "cell_type": "code",
   "execution_count": 2,
   "metadata": {},
   "outputs": [],
   "source": [
    "pickle_file = 'pretrained_models/PreActResnet18/unlabloss_14.pickle'\n",
    "from utils import *"
   ]
  },
  {
   "cell_type": "code",
   "execution_count": 3,
   "metadata": {},
   "outputs": [
    {
     "name": "stdout",
     "output_type": "stream",
     "text": [
      "Loaded losses for 500000 == 500000 train examples from file pretrained_models/PreActResnet18/unlabloss_14.pickle\n"
     ]
    }
   ],
   "source": [
    "example_cross_ent_losses, example_multi_margin_losses, pretrained_acc, pretrained_epochs, example_outputs \\\n",
    "    = load_pretrained_example_losses_from_file('pretrained_models', 'PreActResnet18', 14)"
   ]
  },
  {
   "cell_type": "code",
   "execution_count": 4,
   "metadata": {},
   "outputs": [
    {
     "data": {
      "image/png": "[encoded data removed]",
      "text/plain": [
       "<Figure size 432x288 with 1 Axes>"
      ]
     },
     "metadata": {
      "needs_background": "light"
     },
     "output_type": "display_data"
    }
   ],
   "source": [
    "mu, std = norm.fit(example_cross_ent_losses)\n",
    "plt.figure()\n",
    "plt.hist(example_cross_ent_losses, bins = 100, histtype = 'bar')\n",
    "xmin, xmax = plt.xlim()\n",
    "x = np.linspace(xmin, xmax, 100)\n",
    "p = norm.pdf(x, mu, std)\n",
    "plt.plot(x, p, 'k', linewidth=2)\n",
    "title = \"Cross entropy loss Fit results: mu = %.2f,  std = %.2f\" % (mu, std)\n",
    "plt.title(title)\n",
    "plt.xlabel(\"Cross entropy loss\")\n",
    "plt.ylabel('Count')\n",
    "# plt.title('Histogram of cross entropy loss for unlabeled data')\n",
    "plt.show()"
   ]
  },
  {
   "cell_type": "code",
   "execution_count": 5,
   "metadata": {},
   "outputs": [
    {
     "name": "stderr",
     "output_type": "stream",
     "text": [
      "/afs/cs.wisc.edu/u/v/g/vgoelsj/pythonprojects/sec_proj/lib/python3.6/site-packages/ipykernel_launcher.py:1: UserWarning: Implicit dimension choice for softmax has been deprecated. Change the call to include dim=X as an argument.\n",
      "  \"\"\"Entry point for launching an IPython kernel.\n"
     ]
    }
   ],
   "source": [
    "soft_out = F.softmax(example_outputs)"
   ]
  },
  {
   "cell_type": "code",
   "execution_count": 6,
   "metadata": {},
   "outputs": [
    {
     "name": "stdout",
     "output_type": "stream",
     "text": [
      "torch.Size([500000, 10])\n"
     ]
    }
   ],
   "source": [
    "print(soft_out.shape)"
   ]
  },
  {
   "cell_type": "code",
   "execution_count": 7,
   "metadata": {},
   "outputs": [
    {
     "name": "stdout",
     "output_type": "stream",
     "text": [
      "tensor(1.)\n",
      "torch.Size([500000])\n"
     ]
    }
   ],
   "source": [
    "print(torch.max(soft_out))\n",
    "soft_max = torch.max(soft_out, dim=1).values\n",
    "print(soft_max.shape)"
   ]
  },
  {
   "cell_type": "code",
   "execution_count": 8,
   "metadata": {},
   "outputs": [
    {
     "data": {
      "text/plain": [
       "tensor([0.9936, 0.9882, 0.9987, 0.9932, 1.0000, 0.8189, 0.7366, 0.8318])"
      ]
     },
     "execution_count": 8,
     "metadata": {},
     "output_type": "execute_result"
    }
   ],
   "source": [
    "soft_max[0:8]"
   ]
  },
  {
   "cell_type": "code",
   "execution_count": 9,
   "metadata": {},
   "outputs": [
    {
     "data": {
      "text/plain": [
       "tensor([[9.9363e-01, 6.2753e-03, 7.6077e-08, 1.1577e-06, 8.3061e-07, 3.8725e-08,\n",
       "         1.0268e-09, 4.0069e-06, 1.3074e-06, 9.0153e-05],\n",
       "        [9.8819e-01, 1.0197e-07, 1.2603e-03, 1.0409e-02, 1.4855e-06, 2.4171e-05,\n",
       "         1.7817e-07, 1.7026e-05, 3.5067e-05, 5.7701e-05],\n",
       "        [1.2309e-03, 1.8655e-09, 1.4868e-05, 9.9872e-01, 2.9808e-05, 4.9975e-06,\n",
       "         9.5566e-08, 2.0562e-06, 2.1561e-07, 2.6194e-07],\n",
       "        [9.9321e-01, 9.6248e-10, 6.7553e-03, 1.1585e-08, 1.9707e-05, 9.5298e-10,\n",
       "         8.4927e-10, 6.5291e-10, 1.6306e-05, 3.3301e-09],\n",
       "        [9.9999e-01, 2.3631e-08, 3.2470e-07, 5.3473e-11, 3.4562e-07, 1.5439e-10,\n",
       "         7.7934e-13, 7.8045e-09, 4.6770e-06, 1.3714e-07],\n",
       "        [8.1886e-01, 1.6102e-03, 5.2990e-04, 5.0606e-04, 6.3817e-04, 5.9836e-05,\n",
       "         9.0869e-05, 2.9310e-04, 1.7672e-01, 6.8608e-04],\n",
       "        [2.1317e-01, 1.0188e-06, 3.1752e-04, 4.8899e-02, 7.3656e-01, 2.1982e-04,\n",
       "         4.9204e-08, 8.0981e-04, 1.6255e-05, 6.2974e-06],\n",
       "        [6.5448e-03, 8.6389e-07, 1.1767e-03, 8.3180e-01, 2.4686e-02, 1.1104e-04,\n",
       "         2.2975e-06, 1.3566e-01, 2.3283e-06, 1.3364e-05]])"
      ]
     },
     "execution_count": 9,
     "metadata": {},
     "output_type": "execute_result"
    }
   ],
   "source": [
    "soft_out[0:8]"
   ]
  },
  {
   "cell_type": "code",
   "execution_count": 10,
   "metadata": {},
   "outputs": [
    {
     "data": {
      "text/plain": [
       "tensor([[  6.5708,   1.5061,  -9.8143,  -7.0918,  -7.4239, -10.4896, -14.1196,\n",
       "          -5.8503,  -6.9703,  -2.7368],\n",
       "        [  4.3051, -11.7816,  -2.3594,  -0.2480,  -9.1028,  -6.3134, -11.2235,\n",
       "          -6.6637,  -5.9412,  -5.4432],\n",
       "        [ -0.0361, -13.4359,  -4.4524,   6.6626,  -3.7569,  -5.5427,  -9.4996,\n",
       "          -6.4308,  -8.6859,  -8.4913],\n",
       "        [  9.3739, -11.3808,   4.3833,  -8.8929,  -1.4538, -11.3907, -11.5059,\n",
       "         -11.7689,  -1.6432, -10.1395],\n",
       "        [ 10.8966,  -6.6642,  -4.0438, -12.7553,  -3.9814, -11.6950, -16.9838,\n",
       "          -7.7720,  -1.3763,  -4.9057],\n",
       "        [  2.2271,  -4.0045,  -5.1159,  -5.1620,  -4.9300,  -7.2970,  -6.8792,\n",
       "          -5.7081,   0.6937,  -4.8576],\n",
       "        [  1.0823, -11.1688,  -5.4270,  -0.3900,   2.3222,  -5.7947, -14.1993,\n",
       "          -4.4907,  -8.3991,  -9.3474],\n",
       "        [ -2.1517, -11.0844,  -3.8677,   2.6932,  -0.8241,  -6.2282, -10.1063,\n",
       "           0.8798, -10.0930,  -8.3456]])"
      ]
     },
     "execution_count": 10,
     "metadata": {},
     "output_type": "execute_result"
    }
   ],
   "source": [
    "example_outputs[0:8]"
   ]
  },
  {
   "cell_type": "code",
   "execution_count": 11,
   "metadata": {},
   "outputs": [
    {
     "data": {
      "image/png": "[encoded data removed]",
      "text/plain": [
       "<Figure size 432x288 with 1 Axes>"
      ]
     },
     "metadata": {
      "needs_background": "light"
     },
     "output_type": "display_data"
    }
   ],
   "source": [
    "mu, std = norm.fit(soft_max)\n",
    "plt.figure()\n",
    "plt.hist(soft_max, bins = 100, histtype = 'bar')\n",
    "xmin, xmax = plt.xlim()\n",
    "x = np.linspace(xmin, xmax, 100)\n",
    "p = norm.pdf(x, mu, std)\n",
    "plt.plot(x, p, 'k', linewidth=2)\n",
    "title = \"Softmax confidence Fit results: mu = %.2f,  std = %.2f\" % (mu, std)\n",
    "plt.title(title)\n",
    "plt.xlabel(\"Max confidence of softmax outputs\")\n",
    "plt.ylabel('Count')\n",
    "# plt.title('Histogram of cross entropy loss for unlabeled data')\n",
    "plt.show()\n"
   ]
  },
  {
   "cell_type": "code",
   "execution_count": 12,
   "metadata": {
    "collapsed": true
   },
   "outputs": [
    {
     "name": "stderr",
     "output_type": "stream",
     "text": [
      "/afs/cs.wisc.edu/u/v/g/vgoelsj/pythonprojects/sec_proj/lib/python3.6/site-packages/scipy/stats/stats.py:1713: FutureWarning: Using a non-tuple sequence for multidimensional indexing is deprecated; use `arr[tuple(seq)]` instead of `arr[seq]`. In the future this will be interpreted as an array index, `arr[np.array(seq)]`, which will result either in an error or a different result.\n",
      "  return np.add.reduce(sorted[indexer] * weights, axis=axis) / sumval\n"
     ]
    },
    {
     "data": {
      "text/plain": [
       "<matplotlib.axes._subplots.AxesSubplot at 0x7feaa6863cf8>"
      ]
     },
     "execution_count": 12,
     "metadata": {},
     "output_type": "execute_result"
    },
    {
     "data": {
      "image/png": "[encoded data removed]",
      "text/plain": [
       "<Figure size 432x288 with 1 Axes>"
      ]
     },
     "metadata": {
      "needs_background": "light"
     },
     "output_type": "display_data"
    }
   ],
   "source": [
    "sns.distplot(soft_max, fit=norm, kde=False)"
   ]
  },
  {
   "cell_type": "code",
   "execution_count": 40,
   "metadata": {},
   "outputs": [
    {
     "name": "stdout",
     "output_type": "stream",
     "text": [
      "Filtered indices from unlabeled softmax confidences with upper limit 0.9907, lower limit 0.9182,count 86797\n",
      "[1, 8, 11, 15, 19, 28, 36, 37, 39, 40, 44, 45, 50, 55, 57, 67, 79, 94, 97, 105]\n"
     ]
    }
   ],
   "source": [
    "unsup_std_deviations = 0.5\n",
    "upper_limit = mu + unsup_std_deviations*std \n",
    "lower_limit = mu\n",
    "indices = ((soft_max <= upper_limit) & (soft_max >= lower_limit)).nonzero().view(-1).tolist()\n",
    "print(\"Filtered indices from unlabeled softmax confidences with upper limit %0.4f, lower limit %0.4f,count %d\" %(upper_limit, lower_limit, len(indices)))\n",
    "print(indices[0:20])"
   ]
  },
  {
   "cell_type": "code",
   "execution_count": null,
   "metadata": {},
   "outputs": [],
   "source": [
    "print(soft_max[indices])"
   ]
  },
  {
   "cell_type": "code",
   "execution_count": null,
   "metadata": {},
   "outputs": [],
   "source": []
  }
 ],
 "metadata": {
  "kernelspec": {
   "display_name": "Python 3",
   "language": "python",
   "name": "python3"
  },
  "language_info": {
   "codemirror_mode": {
    "name": "ipython",
    "version": 3
   },
   "file_extension": ".py",
   "mimetype": "text/x-python",
   "name": "python",
   "nbconvert_exporter": "python",
   "pygments_lexer": "ipython3",
   "version": "3.6.9"
  }
 },
 "nbformat": 4,
 "nbformat_minor": 4
}
